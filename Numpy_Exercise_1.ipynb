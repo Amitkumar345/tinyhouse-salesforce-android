{
  "nbformat": 4,
  "nbformat_minor": 0,
  "metadata": {
    "kernelspec": {
      "display_name": "Python 3",
      "language": "python",
      "name": "python3"
    },
    "language_info": {
      "codemirror_mode": {
        "name": "ipython",
        "version": 3
      },
      "file_extension": ".py",
      "mimetype": "text/x-python",
      "name": "python",
      "nbconvert_exporter": "python",
      "pygments_lexer": "ipython3",
      "version": "3.7.4"
    },
    "colab": {
      "name": "Numpy-Exercise-1.ipynb",
      "provenance": [],
      "include_colab_link": true
    }
  },
  "cells": [
    {
      "cell_type": "markdown",
      "metadata": {
        "id": "view-in-github",
        "colab_type": "text"
      },
      "source": [
        "<a href=\"https://colab.research.google.com/github/Amitkumar345/tinyhouse-salesforce-android/blob/master/Numpy_Exercise_1.ipynb\" target=\"_parent\"><img src=\"https://colab.research.google.com/assets/colab-badge.svg\" alt=\"Open In Colab\"/></a>"
      ]
    },
    {
      "cell_type": "markdown",
      "metadata": {
        "id": "pHZZxy8vBLsd",
        "colab_type": "text"
      },
      "source": [
        "# <font color=\"Red\"> GRAY INTERFACE </font>\n",
        "\n",
        "## <font color=\"Blue\"> HackSlash </font>"
      ]
    },
    {
      "cell_type": "markdown",
      "metadata": {
        "id": "BJfJE_mDBLsg",
        "colab_type": "text"
      },
      "source": [
        "----"
      ]
    },
    {
      "cell_type": "markdown",
      "metadata": {
        "id": "d4JAgiKHBLsj",
        "colab_type": "text"
      },
      "source": [
        "# <font color=\"Green\">NumPy<font/>"
      ]
    },
    {
      "cell_type": "markdown",
      "metadata": {
        "id": "aONjS3S1BLsl",
        "colab_type": "text"
      },
      "source": [
        "## Exercise 1: Creating Numpy arrays"
      ]
    },
    {
      "cell_type": "markdown",
      "metadata": {
        "id": "eAEN5Q0nBLsn",
        "colab_type": "text"
      },
      "source": [
        "----"
      ]
    },
    {
      "cell_type": "markdown",
      "metadata": {
        "id": "WhNdNlyGBLsp",
        "colab_type": "text"
      },
      "source": [
        "#### Write & Run CODE to answer each of the given problem statement.\n",
        "##### Note that Sample Output of the problem statement is also given for reference. "
      ]
    },
    {
      "cell_type": "markdown",
      "metadata": {
        "id": "q2ZTWQMNBLsr",
        "colab_type": "text"
      },
      "source": [
        "----"
      ]
    },
    {
      "cell_type": "markdown",
      "metadata": {
        "id": "1Wn60TuJBLst",
        "colab_type": "text"
      },
      "source": [
        "## Import numpy"
      ]
    },
    {
      "cell_type": "code",
      "metadata": {
        "id": "X5p6TEvMBLsv",
        "colab_type": "code",
        "colab": {}
      },
      "source": [
        "import numpy as ny"
      ],
      "execution_count": null,
      "outputs": []
    },
    {
      "cell_type": "markdown",
      "metadata": {
        "id": "6R-_JX0vBLs8",
        "colab_type": "text"
      },
      "source": [
        "## Create Numpy arrays from Python list\n"
      ]
    },
    {
      "cell_type": "markdown",
      "metadata": {
        "id": "nY2haZwrBLs-",
        "colab_type": "text"
      },
      "source": [
        "#### Create Numpy 1d array from list\n",
        "\n",
        "`array([1, 2, 3])`"
      ]
    },
    {
      "cell_type": "code",
      "metadata": {
        "id": "2f-3iXUWBLtA",
        "colab_type": "code",
        "colab": {}
      },
      "source": [
        "list_1d = [1,2,3]"
      ],
      "execution_count": null,
      "outputs": []
    },
    {
      "cell_type": "code",
      "metadata": {
        "id": "Wi6mNylbBLtJ",
        "colab_type": "code",
        "colab": {}
      },
      "source": [
        ""
      ],
      "execution_count": null,
      "outputs": []
    },
    {
      "cell_type": "markdown",
      "metadata": {
        "id": "CpYQ3IA_BLtT",
        "colab_type": "text"
      },
      "source": [
        "#### Create Numpy 2d array from list\n",
        "\n",
        "`array([[1, 2, 3],\n",
        "       [4, 5, 6]])`"
      ]
    },
    {
      "cell_type": "code",
      "metadata": {
        "id": "HrFO8fZ0BLtV",
        "colab_type": "code",
        "colab": {}
      },
      "source": [
        "list_2d = [[1,2,3], [4,5,6]]"
      ],
      "execution_count": null,
      "outputs": []
    },
    {
      "cell_type": "code",
      "metadata": {
        "id": "b6KPY3JQBLtd",
        "colab_type": "code",
        "colab": {}
      },
      "source": [
        ""
      ],
      "execution_count": null,
      "outputs": []
    },
    {
      "cell_type": "markdown",
      "metadata": {
        "id": "HYeQGRW-BLtk",
        "colab_type": "text"
      },
      "source": [
        "#### Create Numpy 3d array from list"
      ]
    },
    {
      "cell_type": "markdown",
      "metadata": {
        "id": "J4F65ebqBLtk",
        "colab_type": "text"
      },
      "source": [
        "`array([[[1, 2, 3],\n",
        "        [4, 5, 6]],\n",
        "       [[1, 2, 3],\n",
        "        [4, 5, 6]]])`"
      ]
    },
    {
      "cell_type": "code",
      "metadata": {
        "id": "SyLc_I1oBLtl",
        "colab_type": "code",
        "colab": {}
      },
      "source": [
        "list_3d = [[[1,2,3],[4,5,6]], [[1,2,3],[4,5,6]]]"
      ],
      "execution_count": null,
      "outputs": []
    },
    {
      "cell_type": "code",
      "metadata": {
        "id": "NrXbWSpeBLtq",
        "colab_type": "code",
        "colab": {}
      },
      "source": [
        ""
      ],
      "execution_count": null,
      "outputs": []
    },
    {
      "cell_type": "markdown",
      "metadata": {
        "id": "EN7S0QgzBLtu",
        "colab_type": "text"
      },
      "source": [
        "-----"
      ]
    },
    {
      "cell_type": "markdown",
      "metadata": {
        "id": "2o0iDBZyBLtv",
        "colab_type": "text"
      },
      "source": [
        "## Create Numpy arrays using functions"
      ]
    },
    {
      "cell_type": "markdown",
      "metadata": {
        "id": "iVyPfFY2BLtv",
        "colab_type": "text"
      },
      "source": [
        "#### Create a Numpy 1d array of 10 zeros \n",
        "\n",
        " `array([ 0.,  0.,  0.,  0.,  0.,  0.,  0.,  0.,  0.,  0.])`"
      ]
    },
    {
      "cell_type": "code",
      "metadata": {
        "id": "o-VNkJ4mBLtw",
        "colab_type": "code",
        "colab": {}
      },
      "source": [
        ""
      ],
      "execution_count": null,
      "outputs": []
    },
    {
      "cell_type": "markdown",
      "metadata": {
        "id": "Wo0q5eTMBLt0",
        "colab_type": "text"
      },
      "source": [
        "#### Create a Numpy 1d array of 10 ones\n",
        "\n",
        "`array([ 1.,  1.,  1.,  1.,  1.,  1.,  1.,  1.,  1.,  1.])`"
      ]
    },
    {
      "cell_type": "code",
      "metadata": {
        "scrolled": true,
        "id": "sLsUwvRXBLt1",
        "colab_type": "code",
        "colab": {}
      },
      "source": [
        ""
      ],
      "execution_count": null,
      "outputs": []
    },
    {
      "cell_type": "markdown",
      "metadata": {
        "id": "zeuy1gE8BLt4",
        "colab_type": "text"
      },
      "source": [
        "#### Create a Numpy 1d array of 10 fives\n",
        "\n",
        "`array([5, 5, 5, 5, 5, 5, 5, 5, 5, 5])`"
      ]
    },
    {
      "cell_type": "code",
      "metadata": {
        "id": "CcuEK1TSBLt5",
        "colab_type": "code",
        "colab": {}
      },
      "source": [
        ""
      ],
      "execution_count": null,
      "outputs": []
    },
    {
      "cell_type": "markdown",
      "metadata": {
        "id": "oCdzGeuIBLt8",
        "colab_type": "text"
      },
      "source": [
        "#### Create a Numpy 1d array consisting of all the integers from 10 to 50\n",
        "\n",
        "`array([10, 11, 12, 13, 14, 15, 16, 17, 18, 19, 20, 21, 22, 23, 24, 25, 26,\n",
        "       27, 28, 29, 30, 31, 32, 33, 34, 35, 36, 37, 38, 39, 40, 41, 42, 43,\n",
        "       44, 45, 46, 47, 48, 49, 50])`"
      ]
    },
    {
      "cell_type": "code",
      "metadata": {
        "id": "5EO9D-bWBLt9",
        "colab_type": "code",
        "colab": {}
      },
      "source": [
        ""
      ],
      "execution_count": null,
      "outputs": []
    },
    {
      "cell_type": "markdown",
      "metadata": {
        "id": "BIa0cI8yBLt_",
        "colab_type": "text"
      },
      "source": [
        "#### Create a Numpy 1d array consisting of all the even integers only from 10 to 50\n",
        "\n",
        "`array([10, 12, 14, 16, 18, 20, 22, 24, 26, 28, 30, 32, 34, 36, 38, 40, 42,\n",
        "       44, 46, 48, 50])`"
      ]
    },
    {
      "cell_type": "code",
      "metadata": {
        "id": "lmT47OPPBLuA",
        "colab_type": "code",
        "colab": {}
      },
      "source": [
        ""
      ],
      "execution_count": null,
      "outputs": []
    },
    {
      "cell_type": "markdown",
      "metadata": {
        "id": "_SkBWfoIBLuE",
        "colab_type": "text"
      },
      "source": [
        "#### Create a Numpy 2d array with shape (3,3) having all entries as 1\n",
        "\n",
        "`array([[1., 1., 1.],\n",
        "       [1., 1., 1.],\n",
        "       [1., 1., 1.]])`"
      ]
    },
    {
      "cell_type": "code",
      "metadata": {
        "id": "uMY4gfh3BLuF",
        "colab_type": "code",
        "colab": {}
      },
      "source": [
        ""
      ],
      "execution_count": null,
      "outputs": []
    },
    {
      "cell_type": "markdown",
      "metadata": {
        "id": "J1UIZ_zgBLuI",
        "colab_type": "text"
      },
      "source": [
        "#### Create a Numpy 2d array with shape (10,10) having all diagonal entries as 1 and all others as 0\n",
        "\n",
        "`array([[1., 0., 0., 0., 0., 0., 0., 0., 0., 0.],\n",
        "       [0., 1., 0., 0., 0., 0., 0., 0., 0., 0.],\n",
        "       [0., 0., 1., 0., 0., 0., 0., 0., 0., 0.],\n",
        "       [0., 0., 0., 1., 0., 0., 0., 0., 0., 0.],\n",
        "       [0., 0., 0., 0., 1., 0., 0., 0., 0., 0.],\n",
        "       [0., 0., 0., 0., 0., 1., 0., 0., 0., 0.],\n",
        "       [0., 0., 0., 0., 0., 0., 1., 0., 0., 0.],\n",
        "       [0., 0., 0., 0., 0., 0., 0., 1., 0., 0.],\n",
        "       [0., 0., 0., 0., 0., 0., 0., 0., 1., 0.],\n",
        "       [0., 0., 0., 0., 0., 0., 0., 0., 0., 1.]])`"
      ]
    },
    {
      "cell_type": "code",
      "metadata": {
        "id": "FsLhaneDBLuJ",
        "colab_type": "code",
        "colab": {}
      },
      "source": [
        ""
      ],
      "execution_count": null,
      "outputs": []
    },
    {
      "cell_type": "markdown",
      "metadata": {
        "id": "GslgtxTcBLuN",
        "colab_type": "text"
      },
      "source": [
        "#### Create a Numpy 2d array with shape (5,6) consisting of values ranging from 1 to 30\n",
        "\n",
        "`array([[ 1,  2,  3,  4,  5,  6],\n",
        "       [ 7,  8,  9, 10, 11, 12],\n",
        "       [13, 14, 15, 16, 17, 18],\n",
        "       [19, 20, 21, 22, 23, 24],\n",
        "       [25, 26, 27, 28, 29, 30]])`"
      ]
    },
    {
      "cell_type": "code",
      "metadata": {
        "id": "dDC_vxPKBLuN",
        "colab_type": "code",
        "colab": {}
      },
      "source": [
        ""
      ],
      "execution_count": null,
      "outputs": []
    },
    {
      "cell_type": "markdown",
      "metadata": {
        "id": "XGkcBtFSBLuR",
        "colab_type": "text"
      },
      "source": [
        "#### Create a Numpy 1d array consisting of a random number between 0 and 1\n",
        "\n",
        "`array([0.42829726])`"
      ]
    },
    {
      "cell_type": "code",
      "metadata": {
        "id": "bkDIlLsZBLuR",
        "colab_type": "code",
        "colab": {}
      },
      "source": [
        ""
      ],
      "execution_count": null,
      "outputs": []
    },
    {
      "cell_type": "markdown",
      "metadata": {
        "id": "FOoWcxRmBLuV",
        "colab_type": "text"
      },
      "source": [
        "#### Create a Numpy 1d array consisting of six *random* numbers between 0 and 1\n",
        "\n",
        "`array([0.48986417, 0.61869789, 0.83943457, 0.94889576, 0.79561515, 0.28859058])`"
      ]
    },
    {
      "cell_type": "code",
      "metadata": {
        "id": "pnVzFyv0BLuV",
        "colab_type": "code",
        "colab": {}
      },
      "source": [
        ""
      ],
      "execution_count": null,
      "outputs": []
    },
    {
      "cell_type": "markdown",
      "metadata": {
        "id": "LNLq6wH0BLuZ",
        "colab_type": "text"
      },
      "source": [
        "#### Create a Numpy 2d array of shape (2,3) consisting of five *random* numbers between 0 and 1\n",
        "\n",
        "`array([[0.3991418 , 0.62631826, 0.82763635],\n",
        "       [0.9232742 , 0.08517427, 0.20155819]])`"
      ]
    },
    {
      "cell_type": "code",
      "metadata": {
        "id": "J972JCtaBLuZ",
        "colab_type": "code",
        "colab": {}
      },
      "source": [
        ""
      ],
      "execution_count": null,
      "outputs": []
    },
    {
      "cell_type": "markdown",
      "metadata": {
        "id": "DoCC_7nHBLud",
        "colab_type": "text"
      },
      "source": [
        "#### Create a Numpy 1d array consisting of 25 random numbers sampled from a *Standard Normal Distribution*\n",
        "\n",
        "`array([-0.01804177, -0.11468092, -0.4790744 , -0.44706856,  0.49891779,\n",
        "        1.53806364, -1.03689237,  0.04379123, -0.6659274 , -0.54294319,\n",
        "       -0.08016372, -0.64441992, -0.12417271,  0.89901988, -0.08695241,\n",
        "        0.23540321,  1.77803936,  1.39912268,  0.19886053, -0.56546787,\n",
        "        0.09538678, -0.47930312,  2.15532489,  0.62643712,  1.19941788])`"
      ]
    },
    {
      "cell_type": "code",
      "metadata": {
        "id": "Ivr3gBT2BLue",
        "colab_type": "code",
        "colab": {}
      },
      "source": [
        ""
      ],
      "execution_count": null,
      "outputs": []
    },
    {
      "cell_type": "markdown",
      "metadata": {
        "id": "1K4eTHHnBLuh",
        "colab_type": "text"
      },
      "source": [
        "#### Generate a *random* integer between 1 and 50\n",
        "\n",
        "`32`"
      ]
    },
    {
      "cell_type": "code",
      "metadata": {
        "id": "8hZKW6myBLui",
        "colab_type": "code",
        "colab": {}
      },
      "source": [
        ""
      ],
      "execution_count": null,
      "outputs": []
    },
    {
      "cell_type": "markdown",
      "metadata": {
        "id": "By-0_V5NBLun",
        "colab_type": "text"
      },
      "source": [
        "#### Create a Numpy 1d array consisting of five *random* integers between 1 and 50\n",
        "\n",
        "`array([36, 30, 32, 14,  2])`"
      ]
    },
    {
      "cell_type": "code",
      "metadata": {
        "id": "NQimDOWUBLuo",
        "colab_type": "code",
        "colab": {}
      },
      "source": [
        ""
      ],
      "execution_count": null,
      "outputs": []
    },
    {
      "cell_type": "markdown",
      "metadata": {
        "id": "T_wHWpeIBLus",
        "colab_type": "text"
      },
      "source": [
        "#### Create a Numpy array consisting of 20 linearly spaced points between 0 and 1\n",
        "\n",
        "`array([ 0.        ,  0.05263158,  0.10526316,  0.15789474,  0.21052632,\n",
        "        0.26315789,  0.31578947,  0.36842105,  0.42105263,  0.47368421,\n",
        "        0.52631579,  0.57894737,  0.63157895,  0.68421053,  0.73684211,\n",
        "        0.78947368,  0.84210526,  0.89473684,  0.94736842,  1.        ])`"
      ]
    },
    {
      "cell_type": "code",
      "metadata": {
        "id": "vi1mOEyXBLus",
        "colab_type": "code",
        "colab": {}
      },
      "source": [
        ""
      ],
      "execution_count": null,
      "outputs": []
    },
    {
      "cell_type": "markdown",
      "metadata": {
        "id": "unwAdhI1BLuw",
        "colab_type": "text"
      },
      "source": [
        "#### Create the following Numpy 2d array:\n",
        "\n",
        "`array([[ 0.01,  0.02,  0.03,  0.04,  0.05,  0.06,  0.07,  0.08,  0.09,  0.1 ],\n",
        "       [ 0.11,  0.12,  0.13,  0.14,  0.15,  0.16,  0.17,  0.18,  0.19,  0.2 ],\n",
        "       [ 0.21,  0.22,  0.23,  0.24,  0.25,  0.26,  0.27,  0.28,  0.29,  0.3 ],\n",
        "       [ 0.31,  0.32,  0.33,  0.34,  0.35,  0.36,  0.37,  0.38,  0.39,  0.4 ],\n",
        "       [ 0.41,  0.42,  0.43,  0.44,  0.45,  0.46,  0.47,  0.48,  0.49,  0.5 ],\n",
        "       [ 0.51,  0.52,  0.53,  0.54,  0.55,  0.56,  0.57,  0.58,  0.59,  0.6 ],\n",
        "       [ 0.61,  0.62,  0.63,  0.64,  0.65,  0.66,  0.67,  0.68,  0.69,  0.7 ],\n",
        "       [ 0.71,  0.72,  0.73,  0.74,  0.75,  0.76,  0.77,  0.78,  0.79,  0.8 ],\n",
        "       [ 0.81,  0.82,  0.83,  0.84,  0.85,  0.86,  0.87,  0.88,  0.89,  0.9 ],\n",
        "       [ 0.91,  0.92,  0.93,  0.94,  0.95,  0.96,  0.97,  0.98,  0.99,  1.  ]])`"
      ]
    },
    {
      "cell_type": "code",
      "metadata": {
        "id": "tYgONm1vBLux",
        "colab_type": "code",
        "colab": {}
      },
      "source": [
        ""
      ],
      "execution_count": null,
      "outputs": []
    },
    {
      "cell_type": "markdown",
      "metadata": {
        "id": "LZFv9S8dBLu0",
        "colab_type": "text"
      },
      "source": [
        "-----"
      ]
    },
    {
      "cell_type": "markdown",
      "metadata": {
        "collapsed": true,
        "id": "FGucSELYBLu1",
        "colab_type": "text"
      },
      "source": [
        "# Great Job!"
      ]
    }
  ]
}